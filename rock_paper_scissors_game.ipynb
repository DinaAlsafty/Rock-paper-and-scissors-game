{
 "cells": [
  {
   "cell_type": "markdown",
   "metadata": {},
   "source": [
    "### Description \n",
    "> #### In this game, the user gets the first chance to pick the option among Rock, paper and scissors. After that computer select from  choices(randomly), the winner is decided as per the rules.\n",
    "- Rock vs paper-> paper wins\n",
    "- Rock vs scissor-> Rock wins\n",
    "- paper vs scissor-> scissor wins."
   ]
  },
  {
   "cell_type": "code",
   "execution_count": 5,
   "metadata": {},
   "outputs": [
    {
     "name": "stdout",
     "output_type": "stream",
     "text": [
      "oh we chose the same option let's play again if you want\n",
      "Do you want to play again? (Y/N)\n"
     ]
    }
   ],
   "source": [
    "\n",
    "import random \n",
    "# Print  instructions\n",
    "print(\"Winning Rules of the Rock paper scissor game as follows: \\n\"\n",
    "                                +\"Rock vs paper->paper wins \\n\"\n",
    "                                + \"Rock vs scissor->Rock wins \\n\"\n",
    "                                +\"paper vs scissor->scissor wins \\n\"\n",
    "                                +\"any Matching choise there is no winner in this case \\n\")\n",
    "choises = ['rock', 'paper', 'scissors']\n",
    "while True:\n",
    "\n",
    "    ## Ask user to chose option first \n",
    "    user_choise = input(\"enter your choise (rock, paper or scissors) \").lower()\n",
    "    ## I choise an option randomly\n",
    "    my_choise = random.choice(choises)\n",
    "\n",
    "    ## rock & paper\n",
    "    if user_choise == 'rock' and my_choise == 'paper':\n",
    "        print('oh I won with paper hard luck!')\n",
    "    elif user_choise == 'paper' and my_choise == 'rock':\n",
    "        print(f'congratulation  you are the winner with paper I chose {my_choise}')\n",
    "    ## rock & scissors\n",
    "    elif user_choise == 'rock' and my_choise =='scissors':\n",
    "        print(f'congratulation  you are the winner with rock I chose {my_choise}')\n",
    "    elif user_choise == 'scissors' and my_choise =='rock':\n",
    "        print('oh I won with rock hard luck')   \n",
    "    ## paper & scissors\n",
    "    elif user_choise == 'paper' and my_choise =='scissors':\n",
    "        print('oh I won with scissors hard luck')\n",
    "    elif user_choise == 'scissors' and my_choise =='paper':\n",
    "        print(f'congratulation  you are the winner with scissors I chose {my_choise}')\n",
    "    ## same choise\n",
    "    else:\n",
    "        print(\"oh we chose the same option let's play again if you want\")\n",
    "    print(\"Do you want to play again? (Y/N)\")\n",
    "    ans = input().upper()\n",
    "\n",
    "\n",
    "    # if user input  N then condition is False\n",
    "    if ans == 'N':\n",
    "        print('it was a great game see you soon')\n",
    "        break\n"
   ]
  },
  {
   "cell_type": "code",
   "execution_count": null,
   "metadata": {},
   "outputs": [],
   "source": [
    "\n"
   ]
  }
 ],
 "metadata": {
  "kernelspec": {
   "display_name": "project1",
   "language": "python",
   "name": "python3"
  },
  "language_info": {
   "codemirror_mode": {
    "name": "ipython",
    "version": 3
   },
   "file_extension": ".py",
   "mimetype": "text/x-python",
   "name": "python",
   "nbconvert_exporter": "python",
   "pygments_lexer": "ipython3",
   "version": "3.8.5"
  }
 },
 "nbformat": 4,
 "nbformat_minor": 2
}
